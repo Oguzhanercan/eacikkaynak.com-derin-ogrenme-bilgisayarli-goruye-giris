{
 "cells": [
  {
   "cell_type": "markdown",
   "metadata": {},
   "source": [
    "# Konvolüsyonel Ağlar"
   ]
  },
  {
   "cell_type": "markdown",
   "metadata": {},
   "source": [
    "    Görüntü verileri\n",
    "    Konvolüsyon nedir ?\n",
    "    Bir boyutta konvolüsyon    \n",
    "    - Bir boyutta konvolüsyon\n",
    "    - Padding\n",
    "    - Bir boyutta konvolüsyon implementasyonu\n",
    "    İki boyutta konvolüsyon\n",
    "    - İki boyutta konvolüsyon\n",
    "    - İki boyutta konvolüsyon implementasyonu\n",
    "    - Stride\n",
    "    - Max Pooling\n",
    "    \n",
    "    \n",
    "    İki sınıflı veri sınıflandırma\n",
    "    - CELEB A veriseti\n",
    "    - Pytorch ile veriyi ön işleme\n",
    "    - Konvolüsyonel Ağ\n",
    "    - Hata fonksiyonu ve optimizer\n",
    "    - Modeli eğitimi\n",
    "    - Model testi\n",
    "    - Model verileri hangi sıra ile görmeli?\n",
    "    - Veri okuma\n",
    "    - \"Dataset\" oluşturma\n",
    "    - \"Dataloader\" oluşturma\n",
    "    - Model eğitimi\n",
    "    - Model testi\n",
    "    - Özet\n",
    "    \n",
    "    \n",
    "    Çok sınıflı veri sınıflandırma\n",
    "    - MNIST Rakam Veriseti\n",
    "    - Batch Normalization"
   ]
  }
 ],
 "metadata": {
  "kernelspec": {
   "display_name": "Python 3",
   "language": "python",
   "name": "python3"
  },
  "language_info": {
   "codemirror_mode": {
    "name": "ipython",
    "version": 3
   },
   "file_extension": ".py",
   "mimetype": "text/x-python",
   "name": "python",
   "nbconvert_exporter": "python",
   "pygments_lexer": "ipython3",
   "version": "3.6.12"
  }
 },
 "nbformat": 4,
 "nbformat_minor": 4
}
